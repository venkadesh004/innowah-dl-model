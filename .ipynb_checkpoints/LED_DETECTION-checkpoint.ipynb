{
 "cells": [
  {
   "cell_type": "markdown",
   "metadata": {},
   "source": [
    "# Importing Libraries"
   ]
  },
  {
   "cell_type": "code",
   "execution_count": 1,
   "metadata": {
    "vscode": {
     "languageId": "plaintext"
    }
   },
   "outputs": [],
   "source": [
    "import cv2\n",
    "import numpy as np\n",
    "import torch"
   ]
  },
  {
   "cell_type": "code",
   "execution_count": 20,
   "metadata": {
    "vscode": {
     "languageId": "plaintext"
    }
   },
   "outputs": [
    {
     "name": "stdout",
     "output_type": "stream",
     "text": [
      "Cloning into 'yolov5'...\n",
      "remote: Enumerating objects: 15305, done.\u001b[K\n",
      "remote: Total 15305 (delta 0), reused 0 (delta 0), pack-reused 15305\u001b[K\n",
      "Receiving objects: 100% (15305/15305), 14.13 MiB | 1.10 MiB/s, done.\n",
      "Resolving deltas: 100% (10501/10501), done.\n"
     ]
    }
   ],
   "source": [
    "!git clone https://github.com/ultralytics/yolov5"
   ]
  },
  {
   "cell_type": "code",
   "execution_count": 2,
   "metadata": {},
   "outputs": [
    {
     "name": "stderr",
     "output_type": "stream",
     "text": [
      "YOLOv5 🚀 v7.0-120-g3e55763 Python-3.10.8 torch-1.13.1+cu117 CPU\n",
      "\n",
      "Fusing layers... \n",
      "YOLOv5s summary: 213 layers, 7225885 parameters, 0 gradients\n",
      "Adding AutoShape... \n"
     ]
    }
   ],
   "source": [
    "model = torch.hub.load('./yolov5', 'custom', path='./yolov5s.pt', source='local')"
   ]
  },
  {
   "cell_type": "code",
   "execution_count": 3,
   "metadata": {},
   "outputs": [
    {
     "name": "stderr",
     "output_type": "stream",
     "text": [
      "Warning: Ignoring XDG_SESSION_TYPE=wayland on Gnome. Use QT_QPA_PLATFORM=wayland to run on Wayland anyway.\n"
     ]
    }
   ],
   "source": [
    "cv2.namedWindow(\"Frame\", cv2.WINDOW_NORMAL)\n",
    "\n",
    "cap = cv2.VideoCapture(0)\n",
    "\n",
    "while True:\n",
    "    \n",
    "    ret, frame = cap.read()\n",
    "    \n",
    "    if ret is False:\n",
    "        break\n",
    "        \n",
    "    result = model(frame)\n",
    "        \n",
    "    cv2.imshow(\"Frame\", np.squeeze(result.render()))\n",
    "    \n",
    "    if cv2.waitKey(1) == ord('q'):\n",
    "        break\n",
    "        \n",
    "cv2.destroyAllWindows()"
   ]
  },
  {
   "cell_type": "code",
   "execution_count": 4,
   "metadata": {},
   "outputs": [
    {
     "name": "stdout",
     "output_type": "stream",
     "text": [
      "Defaulting to user installation because normal site-packages is not writeable\n",
      "Requirement already satisfied: pyqt5 in /home/venkadesh/.local/lib/python3.10/site-packages (5.15.8)\n",
      "Collecting pyqt5\n",
      "  Downloading PyQt5-5.15.9-cp37-abi3-manylinux_2_17_x86_64.whl (8.4 MB)\n",
      "\u001b[2K     \u001b[38;2;114;156;31m━━━━━━━━━━━━━━━━━━━━━━━━━━━━━━━━━━━━━━━━\u001b[0m \u001b[32m8.4/8.4 MB\u001b[0m \u001b[31m1.5 MB/s\u001b[0m eta \u001b[36m0:00:00\u001b[0mm eta \u001b[36m0:00:01\u001b[0m[36m0:00:01\u001b[0m\n",
      "\u001b[?25hRequirement already satisfied: lxml in /home/venkadesh/.local/lib/python3.10/site-packages (4.9.2)\n",
      "Requirement already satisfied: PyQt5-sip<13,>=12.11 in /home/venkadesh/.local/lib/python3.10/site-packages (from pyqt5) (12.11.0)\n",
      "Requirement already satisfied: PyQt5-Qt5>=5.15.2 in /home/venkadesh/.local/lib/python3.10/site-packages (from pyqt5) (5.15.2)\n",
      "Installing collected packages: pyqt5\n",
      "  Attempting uninstall: pyqt5\n",
      "    Found existing installation: PyQt5 5.15.8\n",
      "    Uninstalling PyQt5-5.15.8:\n",
      "      Successfully uninstalled PyQt5-5.15.8\n",
      "Successfully installed pyqt5-5.15.9\n",
      "/bin/bash: line 1: cd: labelImg: No such file or directory\n"
     ]
    }
   ],
   "source": [
    "!pip install pyqt5 lxml --upgrade\n",
    "!cd labelImg && pyrcc5 -o libs/resources.py resources.qrc"
   ]
  },
  {
   "cell_type": "code",
   "execution_count": 5,
   "metadata": {},
   "outputs": [
    {
     "name": "stdout",
     "output_type": "stream",
     "text": [
      "Cloning into 'labelImg'...\n",
      "remote: Enumerating objects: 2097, done.\u001b[K\n",
      "remote: Counting objects: 100% (7/7), done.\u001b[K\n",
      "remote: Compressing objects: 100% (7/7), done.\u001b[K\n",
      "Receiving objects: 100% (2097/2097), 237.14 MiB | 511.00 KiB/s, done.\n",
      "remote: Total 2097 (delta 0), reused 4 (delta 0), pack-reused 2090\u001b[K\n",
      "Resolving deltas: 100% (1242/1242), done.\n"
     ]
    }
   ],
   "source": [
    "!git clone https://github.com/tzutalin/labelImg"
   ]
  },
  {
   "cell_type": "code",
   "execution_count": null,
   "metadata": {},
   "outputs": [
    {
     "name": "stdout",
     "output_type": "stream",
     "text": [
      "\u001b[34m\u001b[1mtrain: \u001b[0mweights=yolov5s.pt, cfg=, data=dataset.yml, hyp=data/hyps/hyp.scratch-low.yaml, epochs=100, batch_size=16, imgsz=320, rect=False, resume=False, nosave=False, noval=False, noautoanchor=False, noplots=False, evolve=None, bucket=, cache=None, image_weights=False, device=, multi_scale=False, single_cls=False, optimizer=SGD, sync_bn=False, workers=2, project=runs/train, name=exp, exist_ok=False, quad=False, cos_lr=False, label_smoothing=0.0, patience=100, freeze=[0], save_period=-1, seed=0, local_rank=-1, entity=None, upload_dataset=False, bbox_interval=-1, artifact_alias=latest\n",
      "\u001b[34m\u001b[1mgithub: \u001b[0mup to date with https://github.com/ultralytics/yolov5 ✅\n",
      "YOLOv5 🚀 v7.0-120-g3e55763 Python-3.10.6 torch-1.13.1+cu117 CPU\n",
      "\n",
      "\u001b[34m\u001b[1mhyperparameters: \u001b[0mlr0=0.01, lrf=0.01, momentum=0.937, weight_decay=0.0005, warmup_epochs=3.0, warmup_momentum=0.8, warmup_bias_lr=0.1, box=0.05, cls=0.5, cls_pw=1.0, obj=1.0, obj_pw=1.0, iou_t=0.2, anchor_t=4.0, fl_gamma=0.0, hsv_h=0.015, hsv_s=0.7, hsv_v=0.4, degrees=0.0, translate=0.1, scale=0.5, shear=0.0, perspective=0.0, flipud=0.0, fliplr=0.5, mosaic=1.0, mixup=0.0, copy_paste=0.0\n",
      "\u001b[34m\u001b[1mClearML: \u001b[0mrun 'pip install clearml' to automatically track, visualize and remotely train YOLOv5 🚀 in ClearML\n",
      "\u001b[34m\u001b[1mComet: \u001b[0mrun 'pip install comet_ml' to automatically track and visualize YOLOv5 🚀 runs in Comet\n",
      "\u001b[34m\u001b[1mTensorBoard: \u001b[0mStart with 'tensorboard --logdir runs/train', view at http://localhost:6006/\n",
      "Overriding model.yaml nc=80 with nc=1\n",
      "\n",
      "                 from  n    params  module                                  arguments                     \n",
      "  0                -1  1      3520  models.common.Conv                      [3, 32, 6, 2, 2]              \n",
      "  1                -1  1     18560  models.common.Conv                      [32, 64, 3, 2]                \n",
      "  2                -1  1     18816  models.common.C3                        [64, 64, 1]                   \n",
      "  3                -1  1     73984  models.common.Conv                      [64, 128, 3, 2]               \n",
      "  4                -1  2    115712  models.common.C3                        [128, 128, 2]                 \n",
      "  5                -1  1    295424  models.common.Conv                      [128, 256, 3, 2]              \n",
      "  6                -1  3    625152  models.common.C3                        [256, 256, 3]                 \n",
      "  7                -1  1   1180672  models.common.Conv                      [256, 512, 3, 2]              \n",
      "  8                -1  1   1182720  models.common.C3                        [512, 512, 1]                 \n",
      "  9                -1  1    656896  models.common.SPPF                      [512, 512, 5]                 \n",
      " 10                -1  1    131584  models.common.Conv                      [512, 256, 1, 1]              \n",
      " 11                -1  1         0  torch.nn.modules.upsampling.Upsample    [None, 2, 'nearest']          \n",
      " 12           [-1, 6]  1         0  models.common.Concat                    [1]                           \n",
      " 13                -1  1    361984  models.common.C3                        [512, 256, 1, False]          \n",
      " 14                -1  1     33024  models.common.Conv                      [256, 128, 1, 1]              \n",
      " 15                -1  1         0  torch.nn.modules.upsampling.Upsample    [None, 2, 'nearest']          \n",
      " 16           [-1, 4]  1         0  models.common.Concat                    [1]                           \n",
      " 17                -1  1     90880  models.common.C3                        [256, 128, 1, False]          \n",
      " 18                -1  1    147712  models.common.Conv                      [128, 128, 3, 2]              \n",
      " 19          [-1, 14]  1         0  models.common.Concat                    [1]                           \n",
      " 20                -1  1    296448  models.common.C3                        [256, 256, 1, False]          \n",
      " 21                -1  1    590336  models.common.Conv                      [256, 256, 3, 2]              \n",
      " 22          [-1, 10]  1         0  models.common.Concat                    [1]                           \n",
      " 23                -1  1   1182720  models.common.C3                        [512, 512, 1, False]          \n",
      " 24      [17, 20, 23]  1     16182  models.yolo.Detect                      [1, [[10, 13, 16, 30, 33, 23], [30, 61, 62, 45, 59, 119], [116, 90, 156, 198, 373, 326]], [128, 256, 512]]\n",
      "Model summary: 214 layers, 7022326 parameters, 7022326 gradients, 15.9 GFLOPs\n",
      "\n",
      "Transferred 343/349 items from yolov5s.pt\n",
      "\u001b[34m\u001b[1moptimizer:\u001b[0m SGD(lr=0.01) with parameter groups 57 weight(decay=0.0), 60 weight(decay=0.0005), 60 bias\n",
      "\u001b[34m\u001b[1mtrain: \u001b[0mScanning /home/venkadesh/Documents/LED_DETECTION_NEW/data/labels.cache...\u001b[0m\n",
      "\u001b[34m\u001b[1mval: \u001b[0mScanning /home/venkadesh/Documents/LED_DETECTION_NEW/data/labels.cache... 7\u001b[0m\n",
      "\n",
      "\u001b[34m\u001b[1mAutoAnchor: \u001b[0m5.04 anchors/target, 1.000 Best Possible Recall (BPR). Current anchors are a good fit to dataset ✅\n",
      "Plotting labels to runs/train/exp4/labels.jpg... \n",
      "Image sizes 320 train, 320 val\n",
      "Using 2 dataloader workers\n",
      "Logging results to \u001b[1mruns/train/exp4\u001b[0m\n",
      "Starting training for 100 epochs...\n",
      "\n",
      "      Epoch    GPU_mem   box_loss   obj_loss   cls_loss  Instances       Size\n",
      "       0/99         0G     0.1219    0.01158          0         29        320:  "
     ]
    }
   ],
   "source": [
    "!cd yolov5 && python3 train.py --img 320 --batch 16 --epochs 100 --data dataset.yml --weights yolov5s.pt --workers 2"
   ]
  },
  {
   "cell_type": "code",
   "execution_count": 19,
   "metadata": {},
   "outputs": [
    {
     "name": "stderr",
     "output_type": "stream",
     "text": [
      "YOLOv5 🚀 v7.0-120-g3e55763 Python-3.10.8 torch-1.13.1+cu117 CPU\n",
      "\n",
      "Fusing layers... \n",
      "Model summary: 157 layers, 7012822 parameters, 0 gradients, 15.8 GFLOPs\n",
      "Adding AutoShape... \n"
     ]
    }
   ],
   "source": [
    "model = torch.hub.load('./yolov5', 'custom', path='yolov5/runs/train/exp4/weights/best.pt', force_reload=True, source='local')"
   ]
  },
  {
   "cell_type": "code",
   "execution_count": null,
   "metadata": {},
   "outputs": [],
   "source": []
  },
  {
   "cell_type": "code",
   "execution_count": 20,
   "metadata": {},
   "outputs": [
    {
     "name": "stdout",
     "output_type": "stream",
     "text": [
      "image 1/1: 600x800 (no detections)\n",
      "Speed: 6.6ms pre-process, 190.7ms inference, 0.3ms NMS per image at shape (1, 3, 480, 640)\n",
      "No image 1\n",
      "image 1/1: 600x800 (no detections)\n",
      "Speed: 3.3ms pre-process, 135.0ms inference, 0.3ms NMS per image at shape (1, 3, 480, 640)\n",
      "image 1/1: 600x800 (no detections)\n",
      "Speed: 3.7ms pre-process, 144.7ms inference, 0.3ms NMS per image at shape (1, 3, 480, 640)\n",
      "image 1/1: 600x800 (no detections)\n",
      "Speed: 3.3ms pre-process, 136.1ms inference, 0.3ms NMS per image at shape (1, 3, 480, 640)\n",
      "image 1/1: 600x800 (no detections)\n",
      "Speed: 3.2ms pre-process, 144.5ms inference, 0.3ms NMS per image at shape (1, 3, 480, 640)\n",
      "image 1/1: 600x800 (no detections)\n",
      "Speed: 3.4ms pre-process, 192.1ms inference, 0.3ms NMS per image at shape (1, 3, 480, 640)\n",
      "image 1/1: 600x800 (no detections)\n",
      "Speed: 5.9ms pre-process, 197.1ms inference, 0.3ms NMS per image at shape (1, 3, 480, 640)\n",
      "image 1/1: 600x800 (no detections)\n",
      "Speed: 3.3ms pre-process, 177.9ms inference, 0.3ms NMS per image at shape (1, 3, 480, 640)\n",
      "image 1/1: 600x800 (no detections)\n",
      "Speed: 3.4ms pre-process, 147.9ms inference, 0.3ms NMS per image at shape (1, 3, 480, 640)\n",
      "image 1/1: 600x800 (no detections)\n",
      "Speed: 3.7ms pre-process, 179.6ms inference, 0.3ms NMS per image at shape (1, 3, 480, 640)\n",
      "image 1/1: 600x800 1 led\n",
      "Speed: 4.0ms pre-process, 185.1ms inference, 0.8ms NMS per image at shape (1, 3, 480, 640)\n",
      "image 1/1: 600x800 (no detections)\n",
      "Speed: 3.5ms pre-process, 144.4ms inference, 0.3ms NMS per image at shape (1, 3, 480, 640)\n",
      "No image 13\n",
      "image 1/1: 600x800 (no detections)\n",
      "Speed: 3.6ms pre-process, 144.8ms inference, 0.3ms NMS per image at shape (1, 3, 480, 640)\n",
      "image 1/1: 600x800 (no detections)\n",
      "Speed: 3.7ms pre-process, 140.1ms inference, 0.3ms NMS per image at shape (1, 3, 480, 640)\n",
      "image 1/1: 600x800 (no detections)\n",
      "Speed: 3.5ms pre-process, 152.2ms inference, 0.3ms NMS per image at shape (1, 3, 480, 640)\n",
      "image 1/1: 600x800 1 led\n",
      "Speed: 3.0ms pre-process, 139.9ms inference, 0.7ms NMS per image at shape (1, 3, 480, 640)\n",
      "image 1/1: 600x800 1 led\n",
      "Speed: 3.7ms pre-process, 156.8ms inference, 0.7ms NMS per image at shape (1, 3, 480, 640)\n",
      "image 1/1: 600x800 1 led\n",
      "Speed: 5.3ms pre-process, 148.7ms inference, 0.7ms NMS per image at shape (1, 3, 480, 640)\n",
      "image 1/1: 600x800 (no detections)\n",
      "Speed: 3.5ms pre-process, 164.0ms inference, 0.3ms NMS per image at shape (1, 3, 480, 640)\n",
      "image 1/1: 600x800 (no detections)\n",
      "Speed: 3.6ms pre-process, 186.7ms inference, 0.4ms NMS per image at shape (1, 3, 480, 640)\n",
      "image 1/1: 600x800 (no detections)\n",
      "Speed: 4.7ms pre-process, 173.6ms inference, 0.3ms NMS per image at shape (1, 3, 480, 640)\n",
      "image 1/1: 600x800 (no detections)\n",
      "Speed: 3.4ms pre-process, 148.5ms inference, 0.3ms NMS per image at shape (1, 3, 480, 640)\n",
      "image 1/1: 600x800 2 leds\n",
      "Speed: 3.3ms pre-process, 142.4ms inference, 0.7ms NMS per image at shape (1, 3, 480, 640)\n",
      "image 1/1: 600x800 (no detections)\n",
      "Speed: 3.3ms pre-process, 144.7ms inference, 0.3ms NMS per image at shape (1, 3, 480, 640)\n"
     ]
    }
   ],
   "source": [
    "for i in range(26):\n",
    "    try:\n",
    "        img = cv2.imread('./test/finalImageNoGlow{}.jpg'.format(i))\n",
    "        result = model(img)\n",
    "    \n",
    "        print(result)\n",
    "    except:\n",
    "        print(\"No image\", i)"
   ]
  },
  {
   "cell_type": "code",
   "execution_count": 22,
   "metadata": {},
   "outputs": [],
   "source": [
    "cv2.namedWindow(\"Frame\", cv2.WINDOW_NORMAL)\n",
    "\n",
    "cap = cv2.VideoCapture(0)\n",
    "\n",
    "while True:\n",
    "    \n",
    "    ret, frame = cap.read()\n",
    "    \n",
    "    if ret is False:\n",
    "        break\n",
    "        \n",
    "    result = model(frame)\n",
    "        \n",
    "    cv2.imshow(\"Frame\", np.squeeze(result.render()))\n",
    "    \n",
    "    if cv2.waitKey(1) == ord('q'):\n",
    "        break\n",
    "        \n",
    "cv2.destroyAllWindows()"
   ]
  },
  {
   "cell_type": "code",
   "execution_count": null,
   "metadata": {},
   "outputs": [],
   "source": []
  }
 ],
 "metadata": {
  "kernelspec": {
   "display_name": "Python 3 (ipykernel)",
   "language": "python",
   "name": "python3"
  },
  "language_info": {
   "codemirror_mode": {
    "name": "ipython",
    "version": 3
   },
   "file_extension": ".py",
   "mimetype": "text/x-python",
   "name": "python",
   "nbconvert_exporter": "python",
   "pygments_lexer": "ipython3",
   "version": "3.10.8"
  }
 },
 "nbformat": 4,
 "nbformat_minor": 2
}
